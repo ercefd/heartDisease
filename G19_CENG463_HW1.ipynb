{
  "nbformat": 4,
  "nbformat_minor": 0,
  "metadata": {
    "colab": {
      "provenance": [],
      "include_colab_link": true
    },
    "kernelspec": {
      "name": "python3",
      "display_name": "Python 3"
    },
    "language_info": {
      "name": "python"
    }
  },
  "cells": [
    {
      "cell_type": "markdown",
      "metadata": {
        "id": "view-in-github",
        "colab_type": "text"
      },
      "source": [
        "<a href=\"https://colab.research.google.com/github/ercefd/heartDisease/blob/main/G19_CENG463_HW1.ipynb\" target=\"_parent\"><img src=\"https://colab.research.google.com/assets/colab-badge.svg\" alt=\"Open In Colab\"/></a>"
      ]
    },
    {
      "cell_type": "markdown",
      "source": [
        "TASK1\n"
      ],
      "metadata": {
        "id": "Bkg5ZkwYHf3m"
      }
    },
    {
      "cell_type": "code",
      "source": [
        "import pandas as pd\n",
        "import numpy as np"
      ],
      "metadata": {
        "id": "jUW_xHsjlZEH"
      },
      "execution_count": null,
      "outputs": []
    },
    {
      "cell_type": "code",
      "source": [
        "#Fetching the heart disease dataset from the website\n",
        "!wget -O heart.csv https://archive.ics.uci.edu/ml/machine-learning-databases/heart-disease/processed.cleveland.data"
      ],
      "metadata": {
        "colab": {
          "base_uri": "https://localhost:8080/"
        },
        "id": "IJP-pGkHlZ_5",
        "outputId": "98733a3c-94e1-4462-808f-180a46356bbc"
      },
      "execution_count": null,
      "outputs": [
        {
          "output_type": "stream",
          "name": "stdout",
          "text": [
            "--2024-11-10 19:22:26--  https://archive.ics.uci.edu/ml/machine-learning-databases/heart-disease/processed.cleveland.data\n",
            "Resolving archive.ics.uci.edu (archive.ics.uci.edu)... 128.195.10.252\n",
            "Connecting to archive.ics.uci.edu (archive.ics.uci.edu)|128.195.10.252|:443... connected.\n",
            "HTTP request sent, awaiting response... 200 OK\n",
            "Length: unspecified\n",
            "Saving to: ‘heart.csv’\n",
            "\n",
            "heart.csv               [ <=>                ]  18.03K  --.-KB/s    in 0.06s   \n",
            "\n",
            "2024-11-10 19:22:27 (297 KB/s) - ‘heart.csv’ saved [18461]\n",
            "\n"
          ]
        }
      ]
    },
    {
      "cell_type": "code",
      "source": [
        "#Reading the dataset\n",
        "df = pd.read_csv('heart.csv')"
      ],
      "metadata": {
        "id": "B4oxO_f5ldjD"
      },
      "execution_count": null,
      "outputs": []
    },
    {
      "cell_type": "code",
      "source": [
        "#Naming the Columns\n",
        "df.columns = ['age', 'sex', 'cp', 'trestbps', 'chol', 'fbs', 'restecg', 'thalach', 'exang', 'oldpeak', 'slope', 'ca', 'thal', 'target']"
      ],
      "metadata": {
        "id": "yi9MfZ87l4BY"
      },
      "execution_count": null,
      "outputs": []
    },
    {
      "cell_type": "code",
      "source": [
        "#Printing the First 3 values\n",
        "df.head(3)"
      ],
      "metadata": {
        "colab": {
          "base_uri": "https://localhost:8080/",
          "height": 143
        },
        "id": "DC9VMJ8slo7A",
        "outputId": "31c6fa73-9775-464b-d431-2e09da06b120",
        "collapsed": true
      },
      "execution_count": null,
      "outputs": [
        {
          "output_type": "execute_result",
          "data": {
            "text/plain": [
              "    age  sex   cp  trestbps   chol  fbs  restecg  thalach  exang  oldpeak  \\\n",
              "0  67.0  1.0  4.0     160.0  286.0  0.0      2.0    108.0    1.0      1.5   \n",
              "1  67.0  1.0  4.0     120.0  229.0  0.0      2.0    129.0    1.0      2.6   \n",
              "2  37.0  1.0  3.0     130.0  250.0  0.0      0.0    187.0    0.0      3.5   \n",
              "\n",
              "   slope   ca thal  target  \n",
              "0    2.0  3.0  3.0       2  \n",
              "1    2.0  2.0  7.0       1  \n",
              "2    3.0  0.0  3.0       0  "
            ],
            "text/html": [
              "\n",
              "  <div id=\"df-363049d1-45d6-46cc-8f9f-262121e59ff5\" class=\"colab-df-container\">\n",
              "    <div>\n",
              "<style scoped>\n",
              "    .dataframe tbody tr th:only-of-type {\n",
              "        vertical-align: middle;\n",
              "    }\n",
              "\n",
              "    .dataframe tbody tr th {\n",
              "        vertical-align: top;\n",
              "    }\n",
              "\n",
              "    .dataframe thead th {\n",
              "        text-align: right;\n",
              "    }\n",
              "</style>\n",
              "<table border=\"1\" class=\"dataframe\">\n",
              "  <thead>\n",
              "    <tr style=\"text-align: right;\">\n",
              "      <th></th>\n",
              "      <th>age</th>\n",
              "      <th>sex</th>\n",
              "      <th>cp</th>\n",
              "      <th>trestbps</th>\n",
              "      <th>chol</th>\n",
              "      <th>fbs</th>\n",
              "      <th>restecg</th>\n",
              "      <th>thalach</th>\n",
              "      <th>exang</th>\n",
              "      <th>oldpeak</th>\n",
              "      <th>slope</th>\n",
              "      <th>ca</th>\n",
              "      <th>thal</th>\n",
              "      <th>target</th>\n",
              "    </tr>\n",
              "  </thead>\n",
              "  <tbody>\n",
              "    <tr>\n",
              "      <th>0</th>\n",
              "      <td>67.0</td>\n",
              "      <td>1.0</td>\n",
              "      <td>4.0</td>\n",
              "      <td>160.0</td>\n",
              "      <td>286.0</td>\n",
              "      <td>0.0</td>\n",
              "      <td>2.0</td>\n",
              "      <td>108.0</td>\n",
              "      <td>1.0</td>\n",
              "      <td>1.5</td>\n",
              "      <td>2.0</td>\n",
              "      <td>3.0</td>\n",
              "      <td>3.0</td>\n",
              "      <td>2</td>\n",
              "    </tr>\n",
              "    <tr>\n",
              "      <th>1</th>\n",
              "      <td>67.0</td>\n",
              "      <td>1.0</td>\n",
              "      <td>4.0</td>\n",
              "      <td>120.0</td>\n",
              "      <td>229.0</td>\n",
              "      <td>0.0</td>\n",
              "      <td>2.0</td>\n",
              "      <td>129.0</td>\n",
              "      <td>1.0</td>\n",
              "      <td>2.6</td>\n",
              "      <td>2.0</td>\n",
              "      <td>2.0</td>\n",
              "      <td>7.0</td>\n",
              "      <td>1</td>\n",
              "    </tr>\n",
              "    <tr>\n",
              "      <th>2</th>\n",
              "      <td>37.0</td>\n",
              "      <td>1.0</td>\n",
              "      <td>3.0</td>\n",
              "      <td>130.0</td>\n",
              "      <td>250.0</td>\n",
              "      <td>0.0</td>\n",
              "      <td>0.0</td>\n",
              "      <td>187.0</td>\n",
              "      <td>0.0</td>\n",
              "      <td>3.5</td>\n",
              "      <td>3.0</td>\n",
              "      <td>0.0</td>\n",
              "      <td>3.0</td>\n",
              "      <td>0</td>\n",
              "    </tr>\n",
              "  </tbody>\n",
              "</table>\n",
              "</div>\n",
              "    <div class=\"colab-df-buttons\">\n",
              "\n",
              "  <div class=\"colab-df-container\">\n",
              "    <button class=\"colab-df-convert\" onclick=\"convertToInteractive('df-363049d1-45d6-46cc-8f9f-262121e59ff5')\"\n",
              "            title=\"Convert this dataframe to an interactive table.\"\n",
              "            style=\"display:none;\">\n",
              "\n",
              "  <svg xmlns=\"http://www.w3.org/2000/svg\" height=\"24px\" viewBox=\"0 -960 960 960\">\n",
              "    <path d=\"M120-120v-720h720v720H120Zm60-500h600v-160H180v160Zm220 220h160v-160H400v160Zm0 220h160v-160H400v160ZM180-400h160v-160H180v160Zm440 0h160v-160H620v160ZM180-180h160v-160H180v160Zm440 0h160v-160H620v160Z\"/>\n",
              "  </svg>\n",
              "    </button>\n",
              "\n",
              "  <style>\n",
              "    .colab-df-container {\n",
              "      display:flex;\n",
              "      gap: 12px;\n",
              "    }\n",
              "\n",
              "    .colab-df-convert {\n",
              "      background-color: #E8F0FE;\n",
              "      border: none;\n",
              "      border-radius: 50%;\n",
              "      cursor: pointer;\n",
              "      display: none;\n",
              "      fill: #1967D2;\n",
              "      height: 32px;\n",
              "      padding: 0 0 0 0;\n",
              "      width: 32px;\n",
              "    }\n",
              "\n",
              "    .colab-df-convert:hover {\n",
              "      background-color: #E2EBFA;\n",
              "      box-shadow: 0px 1px 2px rgba(60, 64, 67, 0.3), 0px 1px 3px 1px rgba(60, 64, 67, 0.15);\n",
              "      fill: #174EA6;\n",
              "    }\n",
              "\n",
              "    .colab-df-buttons div {\n",
              "      margin-bottom: 4px;\n",
              "    }\n",
              "\n",
              "    [theme=dark] .colab-df-convert {\n",
              "      background-color: #3B4455;\n",
              "      fill: #D2E3FC;\n",
              "    }\n",
              "\n",
              "    [theme=dark] .colab-df-convert:hover {\n",
              "      background-color: #434B5C;\n",
              "      box-shadow: 0px 1px 3px 1px rgba(0, 0, 0, 0.15);\n",
              "      filter: drop-shadow(0px 1px 2px rgba(0, 0, 0, 0.3));\n",
              "      fill: #FFFFFF;\n",
              "    }\n",
              "  </style>\n",
              "\n",
              "    <script>\n",
              "      const buttonEl =\n",
              "        document.querySelector('#df-363049d1-45d6-46cc-8f9f-262121e59ff5 button.colab-df-convert');\n",
              "      buttonEl.style.display =\n",
              "        google.colab.kernel.accessAllowed ? 'block' : 'none';\n",
              "\n",
              "      async function convertToInteractive(key) {\n",
              "        const element = document.querySelector('#df-363049d1-45d6-46cc-8f9f-262121e59ff5');\n",
              "        const dataTable =\n",
              "          await google.colab.kernel.invokeFunction('convertToInteractive',\n",
              "                                                    [key], {});\n",
              "        if (!dataTable) return;\n",
              "\n",
              "        const docLinkHtml = 'Like what you see? Visit the ' +\n",
              "          '<a target=\"_blank\" href=https://colab.research.google.com/notebooks/data_table.ipynb>data table notebook</a>'\n",
              "          + ' to learn more about interactive tables.';\n",
              "        element.innerHTML = '';\n",
              "        dataTable['output_type'] = 'display_data';\n",
              "        await google.colab.output.renderOutput(dataTable, element);\n",
              "        const docLink = document.createElement('div');\n",
              "        docLink.innerHTML = docLinkHtml;\n",
              "        element.appendChild(docLink);\n",
              "      }\n",
              "    </script>\n",
              "  </div>\n",
              "\n",
              "\n",
              "<div id=\"df-94493349-7b81-40ec-a215-0dab0e6535ea\">\n",
              "  <button class=\"colab-df-quickchart\" onclick=\"quickchart('df-94493349-7b81-40ec-a215-0dab0e6535ea')\"\n",
              "            title=\"Suggest charts\"\n",
              "            style=\"display:none;\">\n",
              "\n",
              "<svg xmlns=\"http://www.w3.org/2000/svg\" height=\"24px\"viewBox=\"0 0 24 24\"\n",
              "     width=\"24px\">\n",
              "    <g>\n",
              "        <path d=\"M19 3H5c-1.1 0-2 .9-2 2v14c0 1.1.9 2 2 2h14c1.1 0 2-.9 2-2V5c0-1.1-.9-2-2-2zM9 17H7v-7h2v7zm4 0h-2V7h2v10zm4 0h-2v-4h2v4z\"/>\n",
              "    </g>\n",
              "</svg>\n",
              "  </button>\n",
              "\n",
              "<style>\n",
              "  .colab-df-quickchart {\n",
              "      --bg-color: #E8F0FE;\n",
              "      --fill-color: #1967D2;\n",
              "      --hover-bg-color: #E2EBFA;\n",
              "      --hover-fill-color: #174EA6;\n",
              "      --disabled-fill-color: #AAA;\n",
              "      --disabled-bg-color: #DDD;\n",
              "  }\n",
              "\n",
              "  [theme=dark] .colab-df-quickchart {\n",
              "      --bg-color: #3B4455;\n",
              "      --fill-color: #D2E3FC;\n",
              "      --hover-bg-color: #434B5C;\n",
              "      --hover-fill-color: #FFFFFF;\n",
              "      --disabled-bg-color: #3B4455;\n",
              "      --disabled-fill-color: #666;\n",
              "  }\n",
              "\n",
              "  .colab-df-quickchart {\n",
              "    background-color: var(--bg-color);\n",
              "    border: none;\n",
              "    border-radius: 50%;\n",
              "    cursor: pointer;\n",
              "    display: none;\n",
              "    fill: var(--fill-color);\n",
              "    height: 32px;\n",
              "    padding: 0;\n",
              "    width: 32px;\n",
              "  }\n",
              "\n",
              "  .colab-df-quickchart:hover {\n",
              "    background-color: var(--hover-bg-color);\n",
              "    box-shadow: 0 1px 2px rgba(60, 64, 67, 0.3), 0 1px 3px 1px rgba(60, 64, 67, 0.15);\n",
              "    fill: var(--button-hover-fill-color);\n",
              "  }\n",
              "\n",
              "  .colab-df-quickchart-complete:disabled,\n",
              "  .colab-df-quickchart-complete:disabled:hover {\n",
              "    background-color: var(--disabled-bg-color);\n",
              "    fill: var(--disabled-fill-color);\n",
              "    box-shadow: none;\n",
              "  }\n",
              "\n",
              "  .colab-df-spinner {\n",
              "    border: 2px solid var(--fill-color);\n",
              "    border-color: transparent;\n",
              "    border-bottom-color: var(--fill-color);\n",
              "    animation:\n",
              "      spin 1s steps(1) infinite;\n",
              "  }\n",
              "\n",
              "  @keyframes spin {\n",
              "    0% {\n",
              "      border-color: transparent;\n",
              "      border-bottom-color: var(--fill-color);\n",
              "      border-left-color: var(--fill-color);\n",
              "    }\n",
              "    20% {\n",
              "      border-color: transparent;\n",
              "      border-left-color: var(--fill-color);\n",
              "      border-top-color: var(--fill-color);\n",
              "    }\n",
              "    30% {\n",
              "      border-color: transparent;\n",
              "      border-left-color: var(--fill-color);\n",
              "      border-top-color: var(--fill-color);\n",
              "      border-right-color: var(--fill-color);\n",
              "    }\n",
              "    40% {\n",
              "      border-color: transparent;\n",
              "      border-right-color: var(--fill-color);\n",
              "      border-top-color: var(--fill-color);\n",
              "    }\n",
              "    60% {\n",
              "      border-color: transparent;\n",
              "      border-right-color: var(--fill-color);\n",
              "    }\n",
              "    80% {\n",
              "      border-color: transparent;\n",
              "      border-right-color: var(--fill-color);\n",
              "      border-bottom-color: var(--fill-color);\n",
              "    }\n",
              "    90% {\n",
              "      border-color: transparent;\n",
              "      border-bottom-color: var(--fill-color);\n",
              "    }\n",
              "  }\n",
              "</style>\n",
              "\n",
              "  <script>\n",
              "    async function quickchart(key) {\n",
              "      const quickchartButtonEl =\n",
              "        document.querySelector('#' + key + ' button');\n",
              "      quickchartButtonEl.disabled = true;  // To prevent multiple clicks.\n",
              "      quickchartButtonEl.classList.add('colab-df-spinner');\n",
              "      try {\n",
              "        const charts = await google.colab.kernel.invokeFunction(\n",
              "            'suggestCharts', [key], {});\n",
              "      } catch (error) {\n",
              "        console.error('Error during call to suggestCharts:', error);\n",
              "      }\n",
              "      quickchartButtonEl.classList.remove('colab-df-spinner');\n",
              "      quickchartButtonEl.classList.add('colab-df-quickchart-complete');\n",
              "    }\n",
              "    (() => {\n",
              "      let quickchartButtonEl =\n",
              "        document.querySelector('#df-94493349-7b81-40ec-a215-0dab0e6535ea button');\n",
              "      quickchartButtonEl.style.display =\n",
              "        google.colab.kernel.accessAllowed ? 'block' : 'none';\n",
              "    })();\n",
              "  </script>\n",
              "</div>\n",
              "\n",
              "    </div>\n",
              "  </div>\n"
            ],
            "application/vnd.google.colaboratory.intrinsic+json": {
              "type": "dataframe",
              "variable_name": "df",
              "summary": "{\n  \"name\": \"df\",\n  \"rows\": 302,\n  \"fields\": [\n    {\n      \"column\": \"age\",\n      \"properties\": {\n        \"dtype\": \"number\",\n        \"std\": 9.040162526968423,\n        \"min\": 29.0,\n        \"max\": 77.0,\n        \"num_unique_values\": 41,\n        \"samples\": [\n          61.0,\n          64.0,\n          44.0\n        ],\n        \"semantic_type\": \"\",\n        \"description\": \"\"\n      }\n    },\n    {\n      \"column\": \"sex\",\n      \"properties\": {\n        \"dtype\": \"number\",\n        \"std\": 0.4677093784187858,\n        \"min\": 0.0,\n        \"max\": 1.0,\n        \"num_unique_values\": 2,\n        \"samples\": [\n          0.0,\n          1.0\n        ],\n        \"semantic_type\": \"\",\n        \"description\": \"\"\n      }\n    },\n    {\n      \"column\": \"cp\",\n      \"properties\": {\n        \"dtype\": \"number\",\n        \"std\": 0.953611520088047,\n        \"min\": 1.0,\n        \"max\": 4.0,\n        \"num_unique_values\": 4,\n        \"samples\": [\n          3.0,\n          1.0\n        ],\n        \"semantic_type\": \"\",\n        \"description\": \"\"\n      }\n    },\n    {\n      \"column\": \"trestbps\",\n      \"properties\": {\n        \"dtype\": \"number\",\n        \"std\": 17.612202184676732,\n        \"min\": 94.0,\n        \"max\": 200.0,\n        \"num_unique_values\": 50,\n        \"samples\": [\n          125.0,\n          192.0\n        ],\n        \"semantic_type\": \"\",\n        \"description\": \"\"\n      }\n    },\n    {\n      \"column\": \"chol\",\n      \"properties\": {\n        \"dtype\": \"number\",\n        \"std\": 51.85682866501748,\n        \"min\": 126.0,\n        \"max\": 564.0,\n        \"num_unique_values\": 152,\n        \"samples\": [\n          321.0,\n          187.0\n        ],\n        \"semantic_type\": \"\",\n        \"description\": \"\"\n      }\n    },\n    {\n      \"column\": \"fbs\",\n      \"properties\": {\n        \"dtype\": \"number\",\n        \"std\": 0.35338610721954045,\n        \"min\": 0.0,\n        \"max\": 1.0,\n        \"num_unique_values\": 2,\n        \"samples\": [\n          1.0,\n          0.0\n        ],\n        \"semantic_type\": \"\",\n        \"description\": \"\"\n      }\n    },\n    {\n      \"column\": \"restecg\",\n      \"properties\": {\n        \"dtype\": \"number\",\n        \"std\": 0.994915679272516,\n        \"min\": 0.0,\n        \"max\": 2.0,\n        \"num_unique_values\": 3,\n        \"samples\": [\n          2.0,\n          0.0\n        ],\n        \"semantic_type\": \"\",\n        \"description\": \"\"\n      }\n    },\n    {\n      \"column\": \"thalach\",\n      \"properties\": {\n        \"dtype\": \"number\",\n        \"std\": 22.91295889420335,\n        \"min\": 71.0,\n        \"max\": 202.0,\n        \"num_unique_values\": 91,\n        \"samples\": [\n          113.0,\n          151.0\n        ],\n        \"semantic_type\": \"\",\n        \"description\": \"\"\n      }\n    },\n    {\n      \"column\": \"exang\",\n      \"properties\": {\n        \"dtype\": \"number\",\n        \"std\": 0.47019596400976893,\n        \"min\": 0.0,\n        \"max\": 1.0,\n        \"num_unique_values\": 2,\n        \"samples\": [\n          0.0,\n          1.0\n        ],\n        \"semantic_type\": \"\",\n        \"description\": \"\"\n      }\n    },\n    {\n      \"column\": \"oldpeak\",\n      \"properties\": {\n        \"dtype\": \"number\",\n        \"std\": 1.1607233596942839,\n        \"min\": 0.0,\n        \"max\": 6.2,\n        \"num_unique_values\": 40,\n        \"samples\": [\n          2.0,\n          1.8\n        ],\n        \"semantic_type\": \"\",\n        \"description\": \"\"\n      }\n    },\n    {\n      \"column\": \"slope\",\n      \"properties\": {\n        \"dtype\": \"number\",\n        \"std\": 0.611938892862899,\n        \"min\": 1.0,\n        \"max\": 3.0,\n        \"num_unique_values\": 3,\n        \"samples\": [\n          2.0,\n          3.0\n        ],\n        \"semantic_type\": \"\",\n        \"description\": \"\"\n      }\n    },\n    {\n      \"column\": \"ca\",\n      \"properties\": {\n        \"dtype\": \"category\",\n        \"num_unique_values\": 5,\n        \"samples\": [\n          \"2.0\",\n          \"?\"\n        ],\n        \"semantic_type\": \"\",\n        \"description\": \"\"\n      }\n    },\n    {\n      \"column\": \"thal\",\n      \"properties\": {\n        \"dtype\": \"category\",\n        \"num_unique_values\": 4,\n        \"samples\": [\n          \"7.0\",\n          \"?\"\n        ],\n        \"semantic_type\": \"\",\n        \"description\": \"\"\n      }\n    },\n    {\n      \"column\": \"target\",\n      \"properties\": {\n        \"dtype\": \"number\",\n        \"std\": 1,\n        \"min\": 0,\n        \"max\": 4,\n        \"num_unique_values\": 5,\n        \"samples\": [\n          1,\n          4\n        ],\n        \"semantic_type\": \"\",\n        \"description\": \"\"\n      }\n    }\n  ]\n}"
            }
          },
          "metadata": {},
          "execution_count": 38
        }
      ]
    },
    {
      "cell_type": "code",
      "source": [
        "#Finding and printing the missing values\n",
        "missing_values = df[df.isin(['?']).any(axis=1)]\n",
        "print(missing_values)"
      ],
      "metadata": {
        "colab": {
          "base_uri": "https://localhost:8080/"
        },
        "id": "m-WS3p3YHAm9",
        "outputId": "9ca100a5-0423-41c0-ddce-382c8d2bb0dc",
        "collapsed": true
      },
      "execution_count": null,
      "outputs": [
        {
          "output_type": "stream",
          "name": "stdout",
          "text": [
            "      age  sex   cp  trestbps   chol  fbs  restecg  thalach  exang  oldpeak  \\\n",
            "86   53.0  0.0  3.0     128.0  216.0  0.0      2.0    115.0    0.0      0.0   \n",
            "165  52.0  1.0  3.0     138.0  223.0  0.0      0.0    169.0    0.0      0.0   \n",
            "191  43.0  1.0  4.0     132.0  247.0  1.0      2.0    143.0    1.0      0.1   \n",
            "265  52.0  1.0  4.0     128.0  204.0  1.0      0.0    156.0    1.0      1.0   \n",
            "286  58.0  1.0  2.0     125.0  220.0  0.0      0.0    144.0    0.0      0.4   \n",
            "301  38.0  1.0  3.0     138.0  175.0  0.0      0.0    173.0    0.0      0.0   \n",
            "\n",
            "     slope   ca thal  target  \n",
            "86     1.0  0.0    ?       0  \n",
            "165    1.0    ?  3.0       0  \n",
            "191    2.0    ?  7.0       1  \n",
            "265    2.0  0.0    ?       2  \n",
            "286    2.0    ?  7.0       0  \n",
            "301    1.0    ?  3.0       0  \n"
          ]
        }
      ]
    },
    {
      "cell_type": "code",
      "source": [
        "#Counting the missing values in each column and representing the missing values with NaN\n",
        "print(df.isin(['?']).sum())\n",
        "df = df.replace('?', np.nan)\n",
        "df = df.astype(float)"
      ],
      "metadata": {
        "colab": {
          "base_uri": "https://localhost:8080/"
        },
        "id": "QwP9wOQmnwPT",
        "outputId": "28ed79ce-097f-4895-b24a-08ad10aee8f7",
        "collapsed": true
      },
      "execution_count": null,
      "outputs": [
        {
          "output_type": "stream",
          "name": "stdout",
          "text": [
            "age         0\n",
            "sex         0\n",
            "cp          0\n",
            "trestbps    0\n",
            "chol        0\n",
            "fbs         0\n",
            "restecg     0\n",
            "thalach     0\n",
            "exang       0\n",
            "oldpeak     0\n",
            "slope       0\n",
            "ca          4\n",
            "thal        2\n",
            "target      0\n",
            "dtype: int64\n"
          ]
        }
      ]
    },
    {
      "cell_type": "markdown",
      "source": [
        "Task 1 Explanation:\n",
        "\n",
        "In Task 1, we focused on preparing the heart disease dataset for analysis. Here’s what we did and why it matters:\n",
        "\n",
        "Handling Missing Values:\n",
        "\n",
        "The dataset had some missing values, shown as '?'. We replaced these with NaN, a standard way to represent missing data. This step is important because it makes it easier to handle these gaps later (e.g., by filling them in or removing affected rows).\n",
        "Converting Data to Floats:\n",
        "\n",
        "We made sure all the data is in numeric (float) format. This conversion helps us use the data with machine learning models, which expect numbers rather than text.\n",
        "Why These Steps Matter:\n",
        "\n",
        "Cleaning the data by addressing missing values and standardizing the format is essential because models trained on clean data are more accurate and reliable. If we skipped this step, the models might give incorrect results or even fail to run properly.\n",
        "These initial steps set us up to build effective models in the next tasks. Properly preprocessed data leads to better performance and more meaningful results when we start analyzing and predicting heart disease."
      ],
      "metadata": {
        "id": "GvqsNMdAuzhB"
      }
    },
    {
      "cell_type": "markdown",
      "source": [
        "TASK2"
      ],
      "metadata": {
        "id": "UrpZZGKYHjPf"
      }
    },
    {
      "cell_type": "code",
      "source": [
        "def pearson_correlation(x, y):\n",
        "  #Calculating the Pearson Correlation depending on the Formula\n",
        "  n = len(x)\n",
        "  sum_x = np.sum(x)\n",
        "  sum_y = np.sum(y)\n",
        "  sum_xy = np.sum(x * y)\n",
        "  sum_x2 = np.sum(x**2)\n",
        "  sum_y2 = np.sum(y**2)\n",
        "\n",
        "  numerator = n * sum_xy - sum_x * sum_y\n",
        "  denominator = np.sqrt((n * sum_x2 - sum_x**2) * (n * sum_y2 - sum_y**2))\n",
        "\n",
        "  if denominator == 0:\n",
        "    return 0\n",
        "  else:\n",
        "    return numerator / denominator"
      ],
      "metadata": {
        "id": "PObs92JnHlTq"
      },
      "execution_count": null,
      "outputs": []
    },
    {
      "cell_type": "code",
      "source": [
        "# Calculating Pearson correlations between each feature and the target variable.\n",
        "\n",
        "y = df['target']\n",
        "x = df.drop('target', axis=1)\n",
        "#print(x)\n",
        "#print(y)\n",
        "correlations = {}\n",
        "for features in x.columns:\n",
        "  #print(x.dtypes)\n",
        "  correlation = pearson_correlation(x[features], y)\n",
        "  correlations[features] = correlation\n",
        "print(\"Correlations:\", correlations)"
      ],
      "metadata": {
        "colab": {
          "base_uri": "https://localhost:8080/"
        },
        "id": "9aApKvvYIQol",
        "outputId": "81b44250-56a4-4d2b-8c68-573430361254"
      },
      "execution_count": null,
      "outputs": [
        {
          "output_type": "stream",
          "name": "stdout",
          "text": [
            "Correlations: {'age': 0.22580899331365692, 'sex': 0.22660067559370478, 'cp': 0.4051818929782868, 'trestbps': 0.15997763061724385, 'chol': 0.07031461749425665, 'fbs': 0.06593718283244442, 'restecg': 0.18676928429248063, 'thalach': -0.415398985064033, 'exang': 0.3959955651860044, 'oldpeak': 0.5083302157551062, 'slope': 0.3874167161104112, 'ca': 0.5201069602946509, 'thal': 0.5007501174176714}\n"
          ]
        }
      ]
    },
    {
      "cell_type": "code",
      "source": [
        "# Setting a threshold for feature selection based on correlation.\n",
        "threshold = 0.3\n",
        "sc_features = []\n",
        "for feature, correlation in correlations.items():\n",
        "  if abs(correlation) > threshold:\n",
        "    sc_features.append(feature)\n",
        "\n",
        "\n",
        "print(\"Selected features:\", sc_features)"
      ],
      "metadata": {
        "id": "eGZNX-j6Q257",
        "colab": {
          "base_uri": "https://localhost:8080/"
        },
        "outputId": "632cbb2e-c391-4540-8e9b-3033dc6393af"
      },
      "execution_count": null,
      "outputs": [
        {
          "output_type": "stream",
          "name": "stdout",
          "text": [
            "Selected features: ['cp', 'thalach', 'exang', 'oldpeak', 'slope', 'ca', 'thal']\n"
          ]
        }
      ]
    },
    {
      "cell_type": "code",
      "source": [
        "#Finding the highest correlation and most correlated feature\n",
        "highest_correlation = 0\n",
        "hc_key = ''\n",
        "for key, value in correlations.items():\n",
        "  if abs(value) > highest_correlation:\n",
        "    highest_correlation = abs(value)\n",
        "    hc_key = key\n",
        "\n",
        "most_correlated_feature = hc_key\n",
        "most_correlated_value = highest_correlation\n",
        "print(\"Most correlated feature:\", most_correlated_feature, most_correlated_value)"
      ],
      "metadata": {
        "id": "45oKS5Q9TeiJ",
        "colab": {
          "base_uri": "https://localhost:8080/"
        },
        "outputId": "8fbf8ca3-5a21-4286-e7ba-80c9144e911b"
      },
      "execution_count": null,
      "outputs": [
        {
          "output_type": "stream",
          "name": "stdout",
          "text": [
            "Most correlated feature: ca 0.5201069602946509\n"
          ]
        }
      ]
    },
    {
      "cell_type": "markdown",
      "source": [
        "# Why we examine\n",
        "Understanding Relations:\n",
        "\n",
        "The relationships of the correlation can be used to determine which features will have the most influence over the target variable. A high correlation theoretic value indicates the importance of the feature in predicting the target.\n",
        "\n",
        "Reducing Redundancy:\n",
        "\n",
        "When there are many features that are closely related such situations lead to multicollinearity, so that the model becomes difficult to interpret, or unstable. Hence, through the examination of correlations, it is further possible to identify and exclude unnecessary features.\n",
        "\n",
        "Better Understanding of the Risk Factors:\n",
        "\n",
        "Since the most correlated features are pinpointed, we explain the risk factors of heart disease. Knowledge of the risk factors can be important for both the health practitioners and the individuals so that they understand the above and manage the risk.\n",
        "\n",
        "#Advantage\n",
        "\n",
        "Improved Accuracy:\n",
        "\n",
        "The use of Such features with high correlation will increase the likelihood of constructing a more accurate model. Such features that are highly correlated have better information and this reduces the complexity of the model in learning and making predictions.\n",
        "\n",
        "Optimized Model: When a model has less number of features, that model is easier for computational training as well as usage.\n",
        "\n"
      ],
      "metadata": {
        "id": "p7M12YRMcNVj"
      }
    },
    {
      "cell_type": "markdown",
      "source": [
        "Task 2: Explanation\n",
        "\n",
        "In this task, we calculated the Pearson correlation coefficient between each feature and the target variable to identify the features that have the strongest relationships with the target. Pearson correlation measures the linear relationship between two variables, helping us choose the features that are most relevant to the target.\n",
        "\n",
        "Steps in the Task:\n",
        "\n",
        "Calculate Correlations: We calculated the Pearson correlation for each feature with the target variable. This allowed us to see which features have a stronger influence on the target.\n",
        "\n",
        "Correlation values (examples):\n",
        "\n",
        "'ca': 0.5208 (strongest positive correlation)\n",
        "'cp': 0.4051\n",
        "'thalach': -0.4154 (negative correlation)\n",
        "Select Important Features: We set a threshold (e.g., 0.3) to select features that have a significant correlation with the target. Features with correlations above this threshold were chosen, resulting in selected features like 'cp', 'thalach', 'exang', 'oldpeak', 'slope', 'ca', and 'thal'.\n",
        "\n",
        "Most Correlated Feature: The feature with the highest correlation to the target was identified as 'ca', with a correlation value of 0.5208.\n",
        "\n"
      ],
      "metadata": {
        "id": "P1YSjSVDwNJS"
      }
    },
    {
      "cell_type": "markdown",
      "source": [
        "TASK3"
      ],
      "metadata": {
        "id": "W6ZZCUW0t30F"
      }
    },
    {
      "cell_type": "code",
      "source": [
        "import numpy as np\n",
        "def linear_regression(x, y):\n",
        "  x_mean = np.mean(x)\n",
        "  y_mean = np.mean(y)\n",
        "\n",
        "  numerator = np.sum((x - x_mean) * (y - y_mean))\n",
        "  denominator = np.sum((x - x_mean)**2)\n",
        "\n",
        "  b_1 = numerator / denominator #slope\n",
        "  b_0 = y_mean - b_1 * x_mean #intercept\n",
        "\n",
        "  return b_0, b_1"
      ],
      "metadata": {
        "id": "4n55YIl-oW_S"
      },
      "execution_count": null,
      "outputs": []
    },
    {
      "cell_type": "code",
      "source": [
        "b_0, b_1 = linear_regression(df[most_correlated_feature], df['target'])\n",
        "\n",
        "print(\"Intercept (b_0):\", b_0)\n",
        "print(\"Slope (b_1):\",b_1)"
      ],
      "metadata": {
        "id": "MV_eSND_ca4i",
        "colab": {
          "base_uri": "https://localhost:8080/"
        },
        "outputId": "ea79cd59-0f28-4578-db0d-888cb04cc0f0"
      },
      "execution_count": null,
      "outputs": [
        {
          "output_type": "stream",
          "name": "stdout",
          "text": [
            "Intercept (b_0): 0.48084267051651036\n",
            "Slope (b_1): 0.6813298247865991\n"
          ]
        }
      ]
    },
    {
      "cell_type": "code",
      "source": [
        "#y=b_0+b_1*x\n",
        "simple_y_pred = b_0 + b_1 * df[most_correlated_feature]\n",
        "#print(predictions)"
      ],
      "metadata": {
        "id": "RX1frevgtIUL"
      },
      "execution_count": null,
      "outputs": []
    },
    {
      "cell_type": "code",
      "source": [
        "import matplotlib.pyplot as plt\n",
        "df = df.fillna(df.mean())\n",
        "\n",
        "x_filled = df.drop('target', axis=1)\n",
        "\n",
        "\n",
        "x_plot = df[most_correlated_feature]\n",
        "y_plot = df['target']\n",
        "\n",
        "#print(f\"Shape of x: {x.shape}\")\n",
        "#print(f\"Shape of y: {y.shape}\")\n",
        "plt.scatter(x_plot,y_plot)"
      ],
      "metadata": {
        "id": "SrC-pELst-gq",
        "colab": {
          "base_uri": "https://localhost:8080/",
          "height": 447
        },
        "outputId": "1d436e47-6a0b-45b8-9148-d40397450f90",
        "collapsed": true
      },
      "execution_count": null,
      "outputs": [
        {
          "output_type": "execute_result",
          "data": {
            "text/plain": [
              "<matplotlib.collections.PathCollection at 0x7f7c74684220>"
            ]
          },
          "metadata": {},
          "execution_count": 67
        },
        {
          "output_type": "display_data",
          "data": {
            "text/plain": [
              "<Figure size 640x480 with 1 Axes>"
            ],
            "image/png": "[encoded data removed]"
          },
          "metadata": {}
        }
      ]
    },
    {
      "cell_type": "code",
      "source": [
        "regression_line_x = np.linspace(x_plot.min(), x_plot.max(), 100)\n",
        "regression_line_y = b_0 + b_1 * regression_line_x\n",
        "\n",
        "plt.plot(regression_line_x, regression_line_y)\n",
        "\n",
        "\n",
        "plt.xlabel(x_plot)\n",
        "plt.ylabel(\"Target\")\n",
        "plt.title(\"Scatter Plot with Regression Line\")\n",
        "\n",
        "plt.show()"
      ],
      "metadata": {
        "colab": {
          "base_uri": "https://localhost:8080/",
          "height": 650
        },
        "id": "9KefkWbhsHrJ",
        "outputId": "f0847c21-97c4-4140-c950-681d35cc5325",
        "collapsed": true
      },
      "execution_count": null,
      "outputs": [
        {
          "output_type": "display_data",
          "data": {
            "text/plain": [
              "<Figure size 640x480 with 1 Axes>"
            ],
            "image/png": "[encoded data removed]"
          },
          "metadata": {}
        }
      ]
    },
    {
      "cell_type": "markdown",
      "source": [
        "Task 3: Explanation\n",
        "\n",
        "In this task, we applied a linear regression model to predict the target variable based on the most correlated feature identified in the previous step. Linear regression models the relationship between two variables by fitting a line that best represents the data points. This helps us understand how changes in the feature affect the target.\n",
        "\n",
        "Steps in the Task:\n",
        "Calculate Linear Regression Parameters:\n",
        "We used the formula for linear regression to compute the intercept (b_0) and slope (b_1) for the best-fit line between the most correlated feature and the target variable. These parameters represent the line equation y = b_0 + b_1 * x, where y is the predicted target value.\n",
        "\n",
        "Intercept (b_0): 0.4884\n",
        "Slope (b_1): 0.6813\n",
        "Generate Predictions:\n",
        "Using the line equation and the computed parameters, we calculated predicted values for the target variable based on the values of the most correlated feature.\n",
        "\n",
        "Plotting the Data:\n",
        "We created a scatter plot of the actual data points (feature vs. target) and overlaid the regression line to visually assess the model's fit.\n",
        "\n",
        "Model Performance and Suitability:\n",
        "The plot shows the general trend between the selected feature and the target, with the line capturing the direction of the relationship. However, the performance of this model should be evaluated further with metrics like R-squared or Mean Squared Error (MSE) to confirm its accuracy. Without these metrics, it's hard to conclusively determine if the model is highly accurate or suitable for this data. Still, based on the visual fit, the model seems to capture a linear relationship reasonably well.\n",
        "\n"
      ],
      "metadata": {
        "id": "rnVtdJfEym9L"
      }
    },
    {
      "cell_type": "markdown",
      "source": [
        "TASK4"
      ],
      "metadata": {
        "id": "M5IVD5pdtyNQ"
      }
    },
    {
      "cell_type": "markdown",
      "source": [],
      "metadata": {
        "id": "LbXNWi3mTgFt"
      }
    },
    {
      "cell_type": "code",
      "source": [
        "import numpy as np\n",
        "\n",
        "def multiple_linear_regression(X, y):\n",
        "    x_intercepted = np.c_[np.ones((X.shape[0], 1)), X]\n",
        "    x_transpose = x_intercepted.T\n",
        "\n",
        "    beta = np.linalg.inv(x_transpose.dot(x_intercepted)).dot(x_transpose).dot(y)\n",
        "\n",
        "    return beta"
      ],
      "metadata": {
        "id": "9cxNGCwZtzUi"
      },
      "execution_count": null,
      "outputs": []
    },
    {
      "cell_type": "code",
      "source": [
        "print(multiple_linear_regression(x_filled,y))"
      ],
      "metadata": {
        "colab": {
          "base_uri": "https://localhost:8080/"
        },
        "id": "FQPkUCBxOvp9",
        "outputId": "f70ea66c-2a7b-4a88-e1bd-c03f6a57b6fd"
      },
      "execution_count": null,
      "outputs": [
        {
          "output_type": "stream",
          "name": "stdout",
          "text": [
            "[-8.06062323e-01 -7.19528172e-03  1.91394255e-01  1.95667513e-01\n",
            "  4.14416726e-03  2.05533317e-04 -4.37196018e-02  9.69463991e-02\n",
            " -5.22564800e-03  2.40067816e-01  1.91399164e-01  1.73761639e-01\n",
            "  4.23455489e-01  1.36371349e-01]\n"
          ]
        }
      ]
    },
    {
      "cell_type": "code",
      "source": [
        "top_5_features = []\n",
        "\n",
        "for feature, correlation in correlations.items():\n",
        "    if len(top_5_features) < 5:\n",
        "        top_5_features.append((feature, correlation))\n",
        "    else:\n",
        "        min_corr_feature = top_5_features[0]\n",
        "        min_corr_index = 0\n",
        "        for i, (f, corr) in enumerate(top_5_features):\n",
        "            if abs(corr) < abs(min_corr_feature[1]):\n",
        "                min_corr_feature = (f, corr)\n",
        "                min_corr_index = i\n",
        "\n",
        "        if abs(correlation) > abs(min_corr_feature[1]):\n",
        "            top_5_features[min_corr_index] = (feature, correlation)\n",
        "\n",
        "top_5_features = [feature for feature, correlation in top_5_features]\n",
        "\n",
        "print(\"Top 5 most correlated features:\", top_5_features)"
      ],
      "metadata": {
        "colab": {
          "base_uri": "https://localhost:8080/"
        },
        "id": "e8G_HniOWBL5",
        "outputId": "ab528c36-021f-4bb5-c6bf-83fccb02c42d"
      },
      "execution_count": null,
      "outputs": [
        {
          "output_type": "stream",
          "name": "stdout",
          "text": [
            "Top 5 most correlated features: ['oldpeak', 'ca', 'cp', 'thalach', 'thal']\n"
          ]
        }
      ]
    },
    {
      "cell_type": "code",
      "source": [
        "X = df[sc_features].values\n",
        "\n",
        "beta = multiple_linear_regression(X,y)\n",
        "\n",
        "print(beta)"
      ],
      "metadata": {
        "colab": {
          "base_uri": "https://localhost:8080/"
        },
        "id": "wfHfjtzbYq2F",
        "outputId": "98b7a7cb-0c5c-4188-aaba-332e02e4dc3e"
      },
      "execution_count": null,
      "outputs": [
        {
          "output_type": "stream",
          "name": "stdout",
          "text": [
            "[-0.65765171  0.18528416 -0.00395713  0.28035591  0.2040155   0.17733956\n",
            "  0.42025284  0.15515519]\n"
          ]
        }
      ]
    },
    {
      "cell_type": "code",
      "source": [
        "x_intercepted = np.c_[np.ones((X.shape[0], 1)), X]\n",
        "multiple_y_pred = np.dot(x_intercepted, beta)"
      ],
      "metadata": {
        "id": "YtEII4ZdZPNE"
      },
      "execution_count": null,
      "outputs": []
    },
    {
      "cell_type": "code",
      "source": [
        "print(multiple_y_pred)"
      ],
      "metadata": {
        "colab": {
          "base_uri": "https://localhost:8080/"
        },
        "id": "N9KpG7ZpZy5Z",
        "outputId": "19ddd789-5924-4a85-c5e8-3aa6677e5365",
        "collapsed": true
      },
      "execution_count": null,
      "outputs": [
        {
          "output_type": "stream",
          "name": "stdout",
          "text": [
            "[ 2.32339741  2.66508268  0.86975619 -0.0392827  -0.18543477  2.02279007\n",
            "  0.48404329  1.64842701  2.00103895  0.86504635  0.19284075  1.44491681\n",
            "  0.29175924  0.62257957  0.1788903   0.8702395   0.33796807  0.03176811\n",
            " -0.19853797  0.42553441 -0.26660178  0.2671486   1.97039868  2.61240819\n",
            "  0.41954392 -0.13962024  0.60444432  0.3556443   1.76152463  0.78064472\n",
            "  2.12025353 -0.08422043  0.98916042  0.19464197  0.02192115  1.8397896\n",
            "  1.74891484  1.94733675  0.66059024  2.53791175  0.65266704  0.63677877\n",
            "  0.24616149  0.05753531  1.61633158  0.17668837  1.54817821  0.50320194\n",
            "  0.53902006  0.11117696  0.87451901  0.54110222 -0.38821846  1.76331475\n",
            "  2.24236621  1.23661639  0.7216845   0.81646205  0.66202694  1.48751262\n",
            "  0.82852203  2.99581507 -0.13170598  1.78296939  2.6544431   0.717037\n",
            "  0.83512523  2.12160053  0.87110333  0.11856325  1.7605472   2.62058414\n",
            "  1.52944429  0.44613113  0.10669187  2.23814739  0.70536972 -0.13841877\n",
            "  1.35123786  1.21037698  0.41936642 -0.17919152  1.35217763 -0.2841013\n",
            " -0.17127727 -0.07630618  0.35435459  0.09314947  0.05340147  0.38770939\n",
            "  3.6534609   2.38921186  0.14825724 -0.13962024  1.41042186  1.90776547\n",
            "  2.27392716  0.31396064 -0.00973588 -0.00577875 -0.51810282  0.51735944\n",
            "  0.44683202  2.45771486  0.35903043  1.40646473  1.24725597  2.40531692\n",
            "  1.21507097  1.43088101  1.27923044  0.06138826  1.87848329  1.62019619\n",
            "  0.47618589 -0.11192033  0.29171433  2.73291218  2.01319128  1.87420312\n",
            "  2.99167309  0.67765056  2.68519136  0.36511128 -0.03702693  3.11221542\n",
            "  2.29750432 -0.31699014  0.08127809  0.83887451  1.2528376  -0.44361826\n",
            "  0.27062003  0.10622233  0.18158527  2.01774507  1.45197235  1.61660437\n",
            "  0.55109929 -0.01289146  0.38001754 -0.37238994  1.46816617  1.13233362\n",
            " -0.06047766  2.49834046 -0.16732014 -0.31699014  0.32811815  0.50884759\n",
            "  0.54326922  1.03225043  1.81428788  1.85052768  2.22269832  1.26910827\n",
            "  1.51074751  1.93686279  1.18836858  0.35903043  1.62634965  0.41954392\n",
            "  0.62487542  0.68901406  0.96246912  0.15571028  0.42714703  1.00995466\n",
            " -0.01302246  2.18802151  1.18802546  0.61811613  0.52717901  2.09529089\n",
            "  2.12145042  2.04637299  2.08263799  0.70783334  1.11718116  0.96937478\n",
            "  2.43917213  0.46978675  1.42881889  0.08919234  0.48790139  0.91183522\n",
            "  2.06478587  0.62495525  2.43001496 -0.10400608  3.43946022  1.54259758\n",
            "  2.13256196  0.56929891  1.71346408  0.27004767  0.62330507 -0.06091606\n",
            " -0.32420351  0.0971066   0.39724815  0.93809935  0.67613165  0.70981311\n",
            "  2.48366691  2.74273175  1.48962203 -0.25763321  0.86020941 -0.13170598\n",
            "  1.30381528  0.46157883  2.19620125  0.51340231  0.7149725  -0.3249044\n",
            "  0.58250197  1.66939661  0.00609264  0.14073567 -0.11983459 -0.16732014\n",
            "  2.67721576  1.72296436 -0.26123613  0.18082221  0.28063261  1.17686848\n",
            "  0.92495938  0.06999226  1.41465417  1.46637861  0.61832102  0.31624677\n",
            "  2.21831388  1.9007864   0.9402967  -0.10799355 -0.28533311 -0.24971895\n",
            " -0.28929024  0.08127809  1.14493945  0.16112155  0.82668899  1.17025315\n",
            "  1.34131269  1.72663439 -0.19827628  1.45687614  1.93703572  1.85016373\n",
            "  0.04214599  0.43220792  0.0337622   1.06608813  0.48373558 -0.21014766\n",
            "  0.47959201  0.61019078  0.59474386 -0.32261749 -0.12774885  1.84405308\n",
            "  1.52203792  1.03910743  1.52264273  0.63067054 -0.0525634   1.88906527\n",
            "  1.11490752  2.53748444  0.73541333  0.53310081  0.47745225  0.53711474\n",
            "  0.1168619   0.12700547  0.50765507  2.27103623 -0.16732014  2.11846341\n",
            " -0.33281866  1.13006595  3.15086346  2.4834594   0.94892087  0.33133053\n",
            "  0.04164611  0.90860932 -0.05634303  1.82820753  2.71400788  0.64581603\n",
            " -0.36447569  2.05747481  1.35868257  0.69087551  2.50045362  2.01460794\n",
            "  0.26477375  0.13988177]\n"
          ]
        }
      ]
    },
    {
      "cell_type": "code",
      "source": [
        "plt.scatter(y,multiple_y_pred, color='blue')\n",
        "plt.plot([min(y), max(y)], [min(y), max(y)], color='red', linestyle='--')\n",
        "plt.xlabel('Actual Values')\n",
        "plt.ylabel('Predicted Values')\n",
        "plt.grid(True)"
      ],
      "metadata": {
        "colab": {
          "base_uri": "https://localhost:8080/",
          "height": 449
        },
        "id": "nurtnColaNOQ",
        "outputId": "6d572a87-0292-4d54-8c5a-d5950cd0f124"
      },
      "execution_count": null,
      "outputs": [
        {
          "output_type": "display_data",
          "data": {
            "text/plain": [
              "<Figure size 640x480 with 1 Axes>"
            ],
            "image/png": "[encoded data removed]"
          },
          "metadata": {}
        }
      ]
    },
    {
      "cell_type": "code",
      "source": [
        "def mean_squared_error(y, y_pred):\n",
        "    return np.mean((y - y_pred) ** 2)\n",
        "\n",
        "mse_simple = mean_squared_error(y, simple_y_pred)\n",
        "print(\"Simple Linear Regression MSE:\", mse_simple)\n",
        "\n",
        "mse_multiple = mean_squared_error(y, multiple_y_pred)\n",
        "print(\"Multiple Linear Regression MSE:\", mse_multiple)"
      ],
      "metadata": {
        "id": "jBK5W1mDcEmW",
        "colab": {
          "base_uri": "https://localhost:8080/"
        },
        "outputId": "512db72e-2a39-424c-ebb3-567f3a15ffcb"
      },
      "execution_count": null,
      "outputs": [
        {
          "output_type": "stream",
          "name": "stdout",
          "text": [
            "Simple Linear Regression MSE: 1.110449085696458\n",
            "Multiple Linear Regression MSE: 0.6735636280159034\n"
          ]
        }
      ]
    },
    {
      "cell_type": "markdown",
      "source": [
        "Task 4: Explanation\n",
        "\n",
        "In this task, we implemented a multiple linear regression model to predict the target variable using the top 5 most correlated features identified in previous steps. Multiple linear regression allows us to model the relationship between a target variable and multiple predictors, capturing the combined influence of these features.\n",
        "\n",
        "Steps in the Task:\n",
        "Select Top 5 Features:\n",
        "Based on the correlation values calculated earlier, we selected the top 5 features with the strongest linear relationships to the target variable. This selection included features such as 'oldpeak', 'ca', 'cp', 'thalach', and 'thal'.\n",
        "\n",
        "Compute Regression Coefficients (Beta Values):\n",
        "Using the multiple linear regression formula, we calculated the beta coefficients for each of the top 5 features. These coefficients determine the weight or impact of each feature on the target prediction.\n",
        "\n",
        "Beta Values: [-0.657571, 0.18528416, -0.00395713, 0.28035591, 0.2040155, 0.17733956, 0.42025284, 0.15515519]\n",
        "Generate Predictions:\n",
        "We computed the predicted values for the target variable using the regression model with the calculated beta values and the selected features.\n",
        "\n",
        "Plotting the Predicted vs. Actual Values:\n",
        "A scatter plot was generated to compare the predicted values against the actual target values. We also included a diagonal line representing a perfect prediction (where predicted values equal actual values) to visually assess the accuracy of our model.\n",
        "\n",
        "Calculate Mean Squared Error (MSE):\n",
        "To evaluate the performance, we calculated the Mean Squared Error (MSE) for both the simple and multiple linear regression models. MSE measures the average squared difference between actual and predicted values, with lower values indicating a better fit.\n",
        "\n",
        "Simple Linear Regression MSE: 1.1104\n",
        "Multiple Linear Regression MSE: 0.6736\n",
        "Model Performance and Suitability:\n",
        "The multiple linear regression model achieved a lower MSE (0.6736) compared to the simple linear regression model (1.1104), indicating improved performance. This suggests that the multiple linear regression model better captures the relationships within the data due to the combined influence of multiple features. Based on the lower MSE and visual fit, the multiple linear regression model appears to be more suitable for this dataset."
      ],
      "metadata": {
        "id": "pu_gL2QBy6wF"
      }
    },
    {
      "cell_type": "markdown",
      "source": [
        "TASK5"
      ],
      "metadata": {
        "id": "3oL9Vu_GduI3"
      }
    },
    {
      "cell_type": "markdown",
      "source": [],
      "metadata": {
        "id": "lSlHlYfLUU6T"
      }
    },
    {
      "cell_type": "code",
      "source": [
        "from sklearn.model_selection import train_test_split\n",
        "from sklearn.linear_model import LogisticRegression\n",
        "\n",
        "X = df[top_5_features]\n",
        "y = df['target']\n",
        "\n",
        "X_train, X_test, y_train, y_test = train_test_split(X, y, train_size=0.8, random_state=19)"
      ],
      "metadata": {
        "id": "hzdT5QE4dvBQ"
      },
      "execution_count": null,
      "outputs": []
    },
    {
      "cell_type": "code",
      "source": [
        "log = LogisticRegression(max_iter=2861)\n",
        "model = log.fit(X_train,y_train)"
      ],
      "metadata": {
        "id": "ywDQ7IhcfEfb"
      },
      "execution_count": null,
      "outputs": []
    },
    {
      "cell_type": "code",
      "source": [
        "accuracy = model.score(X_test, y_test)\n",
        "print(\"Accuracy:\", accuracy)\n"
      ],
      "metadata": {
        "id": "kfEf0B4RfRyt",
        "colab": {
          "base_uri": "https://localhost:8080/"
        },
        "outputId": "ad9adb1f-42ff-4c3a-be69-8602d0d78f48"
      },
      "execution_count": null,
      "outputs": [
        {
          "output_type": "stream",
          "name": "stdout",
          "text": [
            "Accuracy: 0.6229508196721312\n"
          ]
        }
      ]
    },
    {
      "cell_type": "code",
      "source": [
        "y_pred = model.predict(X_test)\n",
        "plt.scatter(range(len(y_test)), y_test, color='blue', label='Actual')\n",
        "plt.scatter(range(len(y_pred)), y_pred, color='red', label='Predicted', marker='x')\n",
        "\n",
        "\n",
        "plt.xlabel(\"Data Point Index\")\n",
        "plt.ylabel(\"Target Value\")\n",
        "plt.title(\"Actual vs. Predicted Values\")\n",
        "plt.legend()\n",
        "plt.show()"
      ],
      "metadata": {
        "id": "FCSE_3EigcEA",
        "colab": {
          "base_uri": "https://localhost:8080/",
          "height": 472
        },
        "outputId": "3bd0d298-8609-48ca-dcbf-1dcfb59bd62b"
      },
      "execution_count": null,
      "outputs": [
        {
          "output_type": "display_data",
          "data": {
            "text/plain": [
              "<Figure size 640x480 with 1 Axes>"
            ],
            "image/png": "[encoded data removed]"
          },
          "metadata": {}
        }
      ]
    },
    {
      "cell_type": "markdown",
      "source": [
        "Task 5: Explanation\n",
        "\n",
        "In this task, we applied a logistic regression model to predict the target variable using the top 5 most correlated features. Logistic regression is typically used for binary classification, but it can also be adapted for multi-class classification, as in this case, to predict discrete target values.\n",
        "\n",
        "Steps in the Task:\n",
        "Split Data into Training and Testing Sets:\n",
        "We split the dataset into training and testing sets using an 80-20 split. This allows us to train the model on a portion of the data and evaluate its performance on unseen data.\n",
        "\n",
        "Train Logistic Regression Model:\n",
        "We used the logistic regression algorithm from sklearn to fit the model on the training data with a specified number of iterations to ensure convergence.\n",
        "\n",
        "Calculate Model Accuracy:\n",
        "After training, we evaluated the model's accuracy on the test set. Accuracy measures the percentage of correct predictions out of the total predictions.\n",
        "\n",
        "Accuracy: 62.30%\n",
        "Visualize Actual vs. Predicted Values:\n",
        "We created a scatter plot to visualize the actual target values vs. the predicted values. This helps in assessing how well the model distinguishes between different classes.\n",
        "\n",
        "Model Performance and Suitability:\n",
        "The logistic regression model achieved an accuracy of 62.30%, indicating that it correctly predicted the target value in about 62% of test cases. Although the model captures some patterns, an accuracy of 62.30% suggests that it might struggle to predict the target variable reliably. Further tuning, additional features, or alternative models (such as decision trees or support vector machines) could be explored to improve performance.\n",
        "\n"
      ],
      "metadata": {
        "id": "UPLY8SWlzMw-"
      }
    },
    {
      "cell_type": "markdown",
      "source": [
        "TASK6"
      ],
      "metadata": {
        "id": "xhk_tqM6jwUd"
      }
    },
    {
      "cell_type": "markdown",
      "source": [
        "\n",
        "\n"
      ],
      "metadata": {
        "id": "mRFqJuOiUsfz"
      }
    },
    {
      "cell_type": "code",
      "source": [
        "from sklearn.preprocessing import PolynomialFeatures\n",
        "\n",
        "poly = PolynomialFeatures(degree=2)\n",
        "\n",
        "X_poly = poly.fit_transform(df[[most_correlated_feature]])\n",
        "\n",
        "print(X_poly)"
      ],
      "metadata": {
        "id": "YqiW17Kojz6Z",
        "colab": {
          "base_uri": "https://localhost:8080/"
        },
        "outputId": "807ab095-5e88-49a6-fa53-76f308d6da46",
        "collapsed": true
      },
      "execution_count": null,
      "outputs": [
        {
          "output_type": "stream",
          "name": "stdout",
          "text": [
            "[[1.         3.         9.        ]\n",
            " [1.         2.         4.        ]\n",
            " [1.         0.         0.        ]\n",
            " [1.         0.         0.        ]\n",
            " [1.         0.         0.        ]\n",
            " [1.         2.         4.        ]\n",
            " [1.         0.         0.        ]\n",
            " [1.         1.         1.        ]\n",
            " [1.         0.         0.        ]\n",
            " [1.         0.         0.        ]\n",
            " [1.         0.         0.        ]\n",
            " [1.         1.         1.        ]\n",
            " [1.         0.         0.        ]\n",
            " [1.         0.         0.        ]\n",
            " [1.         0.         0.        ]\n",
            " [1.         0.         0.        ]\n",
            " [1.         0.         0.        ]\n",
            " [1.         0.         0.        ]\n",
            " [1.         0.         0.        ]\n",
            " [1.         0.         0.        ]\n",
            " [1.         0.         0.        ]\n",
            " [1.         0.         0.        ]\n",
            " [1.         2.         4.        ]\n",
            " [1.         2.         4.        ]\n",
            " [1.         0.         0.        ]\n",
            " [1.         0.         0.        ]\n",
            " [1.         0.         0.        ]\n",
            " [1.         0.         0.        ]\n",
            " [1.         0.         0.        ]\n",
            " [1.         2.         4.        ]\n",
            " [1.         2.         4.        ]\n",
            " [1.         0.         0.        ]\n",
            " [1.         0.         0.        ]\n",
            " [1.         0.         0.        ]\n",
            " [1.         0.         0.        ]\n",
            " [1.         0.         0.        ]\n",
            " [1.         1.         1.        ]\n",
            " [1.         1.         1.        ]\n",
            " [1.         0.         0.        ]\n",
            " [1.         3.         9.        ]\n",
            " [1.         0.         0.        ]\n",
            " [1.         2.         4.        ]\n",
            " [1.         0.         0.        ]\n",
            " [1.         0.         0.        ]\n",
            " [1.         1.         1.        ]\n",
            " [1.         0.         0.        ]\n",
            " [1.         0.         0.        ]\n",
            " [1.         1.         1.        ]\n",
            " [1.         0.         0.        ]\n",
            " [1.         1.         1.        ]\n",
            " [1.         0.         0.        ]\n",
            " [1.         1.         1.        ]\n",
            " [1.         0.         0.        ]\n",
            " [1.         1.         1.        ]\n",
            " [1.         1.         1.        ]\n",
            " [1.         1.         1.        ]\n",
            " [1.         0.         0.        ]\n",
            " [1.         1.         1.        ]\n",
            " [1.         1.         1.        ]\n",
            " [1.         0.         0.        ]\n",
            " [1.         0.         0.        ]\n",
            " [1.         3.         9.        ]\n",
            " [1.         0.         0.        ]\n",
            " [1.         1.         1.        ]\n",
            " [1.         2.         4.        ]\n",
            " [1.         0.         0.        ]\n",
            " [1.         0.         0.        ]\n",
            " [1.         0.         0.        ]\n",
            " [1.         0.         0.        ]\n",
            " [1.         0.         0.        ]\n",
            " [1.         2.         4.        ]\n",
            " [1.         2.         4.        ]\n",
            " [1.         2.         4.        ]\n",
            " [1.         1.         1.        ]\n",
            " [1.         0.         0.        ]\n",
            " [1.         1.         1.        ]\n",
            " [1.         1.         1.        ]\n",
            " [1.         0.         0.        ]\n",
            " [1.         0.         0.        ]\n",
            " [1.         0.         0.        ]\n",
            " [1.         0.         0.        ]\n",
            " [1.         0.         0.        ]\n",
            " [1.         0.         0.        ]\n",
            " [1.         0.         0.        ]\n",
            " [1.         0.         0.        ]\n",
            " [1.         0.         0.        ]\n",
            " [1.         0.         0.        ]\n",
            " [1.         0.         0.        ]\n",
            " [1.         0.         0.        ]\n",
            " [1.         0.         0.        ]\n",
            " [1.         3.         9.        ]\n",
            " [1.         3.         9.        ]\n",
            " [1.         0.         0.        ]\n",
            " [1.         0.         0.        ]\n",
            " [1.         1.         1.        ]\n",
            " [1.         1.         1.        ]\n",
            " [1.         2.         4.        ]\n",
            " [1.         1.         1.        ]\n",
            " [1.         0.         0.        ]\n",
            " [1.         0.         0.        ]\n",
            " [1.         0.         0.        ]\n",
            " [1.         1.         1.        ]\n",
            " [1.         1.         1.        ]\n",
            " [1.         3.         9.        ]\n",
            " [1.         0.         0.        ]\n",
            " [1.         1.         1.        ]\n",
            " [1.         1.         1.        ]\n",
            " [1.         1.         1.        ]\n",
            " [1.         0.         0.        ]\n",
            " [1.         0.         0.        ]\n",
            " [1.         1.         1.        ]\n",
            " [1.         0.         0.        ]\n",
            " [1.         0.         0.        ]\n",
            " [1.         1.         1.        ]\n",
            " [1.         0.         0.        ]\n",
            " [1.         0.         0.        ]\n",
            " [1.         0.         0.        ]\n",
            " [1.         3.         9.        ]\n",
            " [1.         1.         1.        ]\n",
            " [1.         2.         4.        ]\n",
            " [1.         3.         9.        ]\n",
            " [1.         0.         0.        ]\n",
            " [1.         0.         0.        ]\n",
            " [1.         1.         1.        ]\n",
            " [1.         0.         0.        ]\n",
            " [1.         2.         4.        ]\n",
            " [1.         1.         1.        ]\n",
            " [1.         0.         0.        ]\n",
            " [1.         0.         0.        ]\n",
            " [1.         0.         0.        ]\n",
            " [1.         1.         1.        ]\n",
            " [1.         0.         0.        ]\n",
            " [1.         0.         0.        ]\n",
            " [1.         0.         0.        ]\n",
            " [1.         0.         0.        ]\n",
            " [1.         0.         0.        ]\n",
            " [1.         1.         1.        ]\n",
            " [1.         0.         0.        ]\n",
            " [1.         0.         0.        ]\n",
            " [1.         0.         0.        ]\n",
            " [1.         0.         0.        ]\n",
            " [1.         0.         0.        ]\n",
            " [1.         0.         0.        ]\n",
            " [1.         0.         0.        ]\n",
            " [1.         0.         0.        ]\n",
            " [1.         3.         9.        ]\n",
            " [1.         0.         0.        ]\n",
            " [1.         0.         0.        ]\n",
            " [1.         1.         1.        ]\n",
            " [1.         0.         0.        ]\n",
            " [1.         0.         0.        ]\n",
            " [1.         0.         0.        ]\n",
            " [1.         1.         1.        ]\n",
            " [1.         1.         1.        ]\n",
            " [1.         3.         9.        ]\n",
            " [1.         0.         0.        ]\n",
            " [1.         2.         4.        ]\n",
            " [1.         2.         4.        ]\n",
            " [1.         1.         1.        ]\n",
            " [1.         0.         0.        ]\n",
            " [1.         3.         9.        ]\n",
            " [1.         0.         0.        ]\n",
            " [1.         0.         0.        ]\n",
            " [1.         2.         4.        ]\n",
            " [1.         0.         0.        ]\n",
            " [1.         0.67449664 0.45494572]\n",
            " [1.         1.         1.        ]\n",
            " [1.         0.         0.        ]\n",
            " [1.         0.         0.        ]\n",
            " [1.         1.         1.        ]\n",
            " [1.         0.         0.        ]\n",
            " [1.         0.         0.        ]\n",
            " [1.         0.         0.        ]\n",
            " [1.         2.         4.        ]\n",
            " [1.         1.         1.        ]\n",
            " [1.         3.         9.        ]\n",
            " [1.         1.         1.        ]\n",
            " [1.         1.         1.        ]\n",
            " [1.         3.         9.        ]\n",
            " [1.         0.         0.        ]\n",
            " [1.         2.         4.        ]\n",
            " [1.         2.         4.        ]\n",
            " [1.         0.         0.        ]\n",
            " [1.         0.         0.        ]\n",
            " [1.         2.         4.        ]\n",
            " [1.         0.         0.        ]\n",
            " [1.         3.         9.        ]\n",
            " [1.         1.         1.        ]\n",
            " [1.         3.         9.        ]\n",
            " [1.         0.         0.        ]\n",
            " [1.         3.         9.        ]\n",
            " [1.         0.67449664 0.45494572]\n",
            " [1.         3.         9.        ]\n",
            " [1.         0.         0.        ]\n",
            " [1.         2.         4.        ]\n",
            " [1.         1.         1.        ]\n",
            " [1.         0.         0.        ]\n",
            " [1.         0.         0.        ]\n",
            " [1.         0.         0.        ]\n",
            " [1.         0.         0.        ]\n",
            " [1.         0.         0.        ]\n",
            " [1.         1.         1.        ]\n",
            " [1.         0.         0.        ]\n",
            " [1.         0.         0.        ]\n",
            " [1.         3.         9.        ]\n",
            " [1.         2.         4.        ]\n",
            " [1.         0.         0.        ]\n",
            " [1.         0.         0.        ]\n",
            " [1.         0.         0.        ]\n",
            " [1.         0.         0.        ]\n",
            " [1.         0.         0.        ]\n",
            " [1.         0.         0.        ]\n",
            " [1.         2.         4.        ]\n",
            " [1.         1.         1.        ]\n",
            " [1.         0.         0.        ]\n",
            " [1.         0.         0.        ]\n",
            " [1.         0.         0.        ]\n",
            " [1.         2.         4.        ]\n",
            " [1.         0.         0.        ]\n",
            " [1.         0.         0.        ]\n",
            " [1.         0.         0.        ]\n",
            " [1.         0.         0.        ]\n",
            " [1.         2.         4.        ]\n",
            " [1.         2.         4.        ]\n",
            " [1.         0.         0.        ]\n",
            " [1.         0.         0.        ]\n",
            " [1.         1.         1.        ]\n",
            " [1.         1.         1.        ]\n",
            " [1.         1.         1.        ]\n",
            " [1.         0.         0.        ]\n",
            " [1.         0.         0.        ]\n",
            " [1.         3.         9.        ]\n",
            " [1.         1.         1.        ]\n",
            " [1.         1.         1.        ]\n",
            " [1.         2.         4.        ]\n",
            " [1.         0.         0.        ]\n",
            " [1.         0.         0.        ]\n",
            " [1.         0.         0.        ]\n",
            " [1.         0.         0.        ]\n",
            " [1.         0.         0.        ]\n",
            " [1.         0.         0.        ]\n",
            " [1.         0.         0.        ]\n",
            " [1.         2.         4.        ]\n",
            " [1.         0.         0.        ]\n",
            " [1.         0.         0.        ]\n",
            " [1.         1.         1.        ]\n",
            " [1.         1.         1.        ]\n",
            " [1.         2.         4.        ]\n",
            " [1.         0.         0.        ]\n",
            " [1.         0.         0.        ]\n",
            " [1.         1.         1.        ]\n",
            " [1.         1.         1.        ]\n",
            " [1.         0.         0.        ]\n",
            " [1.         0.         0.        ]\n",
            " [1.         0.         0.        ]\n",
            " [1.         2.         4.        ]\n",
            " [1.         0.         0.        ]\n",
            " [1.         0.         0.        ]\n",
            " [1.         0.         0.        ]\n",
            " [1.         1.         1.        ]\n",
            " [1.         2.         4.        ]\n",
            " [1.         0.         0.        ]\n",
            " [1.         0.         0.        ]\n",
            " [1.         1.         1.        ]\n",
            " [1.         0.         0.        ]\n",
            " [1.         0.         0.        ]\n",
            " [1.         1.         1.        ]\n",
            " [1.         0.         0.        ]\n",
            " [1.         0.         0.        ]\n",
            " [1.         1.         1.        ]\n",
            " [1.         0.         0.        ]\n",
            " [1.         2.         4.        ]\n",
            " [1.         0.         0.        ]\n",
            " [1.         2.         4.        ]\n",
            " [1.         0.         0.        ]\n",
            " [1.         1.         1.        ]\n",
            " [1.         0.         0.        ]\n",
            " [1.         1.         1.        ]\n",
            " [1.         0.         0.        ]\n",
            " [1.         1.         1.        ]\n",
            " [1.         0.         0.        ]\n",
            " [1.         1.         1.        ]\n",
            " [1.         0.         0.        ]\n",
            " [1.         1.         1.        ]\n",
            " [1.         3.         9.        ]\n",
            " [1.         2.         4.        ]\n",
            " [1.         0.67449664 0.45494572]\n",
            " [1.         0.         0.        ]\n",
            " [1.         0.         0.        ]\n",
            " [1.         0.         0.        ]\n",
            " [1.         0.         0.        ]\n",
            " [1.         0.         0.        ]\n",
            " [1.         2.         4.        ]\n",
            " [1.         0.         0.        ]\n",
            " [1.         0.         0.        ]\n",
            " [1.         2.         4.        ]\n",
            " [1.         0.         0.        ]\n",
            " [1.         0.         0.        ]\n",
            " [1.         2.         4.        ]\n",
            " [1.         1.         1.        ]\n",
            " [1.         1.         1.        ]\n",
            " [1.         0.67449664 0.45494572]]\n"
          ]
        }
      ]
    },
    {
      "cell_type": "code",
      "source": [
        "from sklearn.linear_model import LinearRegression\n",
        "polyreg = LinearRegression()\n",
        "model = polyreg.fit(X_poly, y)\n",
        "model.score(X_poly,y)"
      ],
      "metadata": {
        "id": "MGs-F7Ckl3FS",
        "colab": {
          "base_uri": "https://localhost:8080/"
        },
        "outputId": "083cd64d-83d1-41f3-825b-e5ada6abb7e0"
      },
      "execution_count": null,
      "outputs": [
        {
          "output_type": "execute_result",
          "data": {
            "text/plain": [
              "0.27062315983841023"
            ]
          },
          "metadata": {},
          "execution_count": 63
        }
      ]
    },
    {
      "cell_type": "code",
      "source": [
        "y_pred_poly = model.predict(X_poly)\n",
        "\n",
        "mse_poly = mean_squared_error(y, y_pred_poly)\n",
        "print(\"Polynomial Regression MSE:\", mse_poly)"
      ],
      "metadata": {
        "colab": {
          "base_uri": "https://localhost:8080/"
        },
        "id": "qHz7PKm6oRXI",
        "outputId": "5b37773a-aa04-4b9e-c2fd-524de512500c"
      },
      "execution_count": null,
      "outputs": [
        {
          "output_type": "stream",
          "name": "stdout",
          "text": [
            "Polynomial Regression MSE: 1.0987196319911463\n"
          ]
        }
      ]
    },
    {
      "cell_type": "code",
      "source": [
        "plt.scatter(range(len(y)), y_pred_poly, color='blue', label='Predicted')\n",
        "plt.scatter(range(len(y)), y, color='red', label='Actual')\n",
        "plt.xlabel(\"Actual Values\")\n",
        "plt.ylabel(\"Predicted Values\")\n",
        "plt.title(\"Actual vs. Predicted Values (Polynomial Regression)\")\n",
        "plt.legend()\n",
        "plt.show()"
      ],
      "metadata": {
        "colab": {
          "base_uri": "https://localhost:8080/",
          "height": 472
        },
        "id": "muUoJLfIoxxP",
        "outputId": "89cdb281-0ccb-4918-b9ed-a4167d325ce3",
        "collapsed": true
      },
      "execution_count": null,
      "outputs": [
        {
          "output_type": "display_data",
          "data": {
            "text/plain": [
              "<Figure size 640x480 with 1 Axes>"
            ],
            "image/png": "[encoded data removed]"
          },
          "metadata": {}
        }
      ]
    },
    {
      "cell_type": "markdown",
      "source": [
        "Task 6: Explanation\n",
        "\n",
        "In this task, we applied a polynomial regression model with a degree of 2 to predict the target variable using the most correlated feature. Polynomial regression helps capture non-linear relationships in the data by introducing polynomial terms (e.g.,\n",
        "𝑥\n",
        "2\n",
        "x\n",
        "2\n",
        " ) to the features, which can improve model performance for data with non-linear patterns.\n",
        "\n",
        "Steps in the Task:\n",
        "Polynomial Feature Transformation: We used PolynomialFeatures to transform the most correlated feature into a polynomial form (degree 2), which enhances the model's ability to capture non-linear relationships.\n",
        "\n",
        "Train the Polynomial Regression Model: We used linear regression on the transformed polynomial features to fit the model to the data.\n",
        "\n",
        "Calculate Mean Squared Error (MSE): After training, we evaluated the model using MSE, which measures the average squared difference between actual and predicted values. Lower MSE values indicate better model performance.\n",
        "\n",
        "Visualize Actual vs. Predicted Values: A scatter plot was created to compare actual and predicted values, with different colors representing each set, allowing us to visually assess the model's performance.\n",
        "\n",
        "Model Performance and Suitability:\n",
        "MSE: The polynomial regression model achieved an MSE of approximately 1.09, indicating the average squared error in the predictions.\n",
        "Visual Assessment: Based on the scatter plot, we can observe that the model captures some trends in the data, but there is a significant deviation in certain predictions, suggesting that it struggles to generalize for certain cases.\n",
        "Conclusion:\n",
        "The polynomial regression model with degree 2 partially captures the relationship between the features and the target variable, but the MSE indicates that its predictions are not highly accurate. This may suggest that either a higher degree polynomial or a different model altogether (such as a decision tree or a more complex non-linear model) might improve performance, especially if the data has more complex patterns.\n",
        "\n"
      ],
      "metadata": {
        "id": "oWf_uzKgVS3L"
      }
    },
    {
      "cell_type": "markdown",
      "source": [
        "Final Conclusion: Best Model for the Data\n",
        "\n",
        "Based on the performance metrics from each task, the multiple linear regression model appears to be the most suitable for this dataset, achieving the lowest Mean Squared Error (MSE) at 0.6736. This model leverages the top 5 most correlated features, allowing it to capture a broader range of information about the target variable and providing a balance between complexity and predictive accuracy.\n",
        "\n",
        "Comparison of Models:\n",
        "Simple Linear Regression: With an MSE of 1.1104, this model used only the single most correlated feature. Although it provides some insights into the linear relationship between this feature and the target variable, its limited scope results in a higher error compared to models using multiple features.\n",
        "\n",
        "Multiple Linear Regression: Achieving the lowest MSE (0.6736), this model benefits from using the top 5 most correlated features, which allows it to capture the combined influence of multiple predictors. This model demonstrates improved accuracy and is able to better account for the complexity in the target variable.\n",
        "\n",
        "Polynomial Regression: The polynomial regression model, with a degree of 2, achieved an MSE of approximately 1.09. Although it attempts to capture non-linear relationships, it was unable to match the performance of the multiple linear regression model. This suggests that while some non-linear patterns may exist, they are not strong enough to outweigh the benefits of using multiple features in a linear model.\n",
        "\n",
        "Logistic Regression: The logistic regression model achieved an accuracy of 62.30%. Although it captures some patterns, this model is less suitable for predicting the continuous nature of the target variable due to its typical use in classification tasks. It may not fully capture the complexities needed for regression analysis on this dataset.\n",
        "\n",
        "Conclusion:\n",
        "The multiple linear regression model fits the data best due to its lower MSE and its ability to leverage multiple correlated features to enhance predictive accuracy. While polynomial regression could be a consideration if more complex, non-linear relationships were strongly present, the current dataset suggests that a linear approach with multiple predictors offers a better balance between accuracy and simplicity. Therefore, the multiple linear regression model is the preferred choice for this dataset.\n",
        "\n",
        "If additional improvements are needed, further model tuning or exploration of advanced techniques (e.g., regularization) could be considered."
      ],
      "metadata": {
        "id": "G8lf1odb0eSf"
      }
    }
  ]
}